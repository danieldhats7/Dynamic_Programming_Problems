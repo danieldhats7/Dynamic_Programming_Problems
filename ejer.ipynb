{
 "cells": [
  {
   "cell_type": "code",
   "execution_count": 3,
   "metadata": {},
   "outputs": [
    {
     "data": {
      "text/plain": [
       "'a'"
      ]
     },
     "execution_count": 3,
     "metadata": {},
     "output_type": "execute_result"
    }
   ],
   "source": [
    "def longestPalindrome(s):\n",
    "    lens = {0:''}\n",
    "    for l in range(0,len(s)):\n",
    "        for k in range(0,len(s)-l):\n",
    "            if s[k:k+l+1] == s[k:k+l+1][::-1]:\n",
    "                lens[len(s[k:k+l+1])] = s[k:k+l+1]\n",
    "    return(lens[max(lens.keys())])\n",
    "\n",
    "longestPalindrome('a')"
   ]
  },
  {
   "cell_type": "code",
   "execution_count": 4,
   "metadata": {},
   "outputs": [
    {
     "data": {
      "text/plain": [
       "'a'"
      ]
     },
     "execution_count": 4,
     "metadata": {},
     "output_type": "execute_result"
    }
   ],
   "source": [
    "def longestPalindrome(s):\n",
    "    lens = {len(s[k:k+l+1]):s[k:k+l+1] for l in range(0,len(s)) for k in range(0,len(s)-l) if s[k:k+l+1] == s[k:k+l+1][::-1]}\n",
    "    lens[0] = ''\n",
    "    return(lens[max(lens.keys())])\n",
    "\n",
    "longestPalindrome('a')"
   ]
  },
  {
   "cell_type": "code",
   "execution_count": 5,
   "metadata": {},
   "outputs": [
    {
     "ename": "SyntaxError",
     "evalue": "invalid syntax (<ipython-input-5-4af48312aa1c>, line 1)",
     "output_type": "error",
     "traceback": [
      "\u001b[1;36m  File \u001b[1;32m\"<ipython-input-5-4af48312aa1c>\"\u001b[1;36m, line \u001b[1;32m1\u001b[0m\n\u001b[1;33m    {3:'v'}.update(2:'a')\u001b[0m\n\u001b[1;37m                    ^\u001b[0m\n\u001b[1;31mSyntaxError\u001b[0m\u001b[1;31m:\u001b[0m invalid syntax\n"
     ]
    }
   ],
   "source": [
    "{3:'v'}.update(2:'a')"
   ]
  },
  {
   "cell_type": "code",
   "execution_count": null,
   "metadata": {},
   "outputs": [
    {
     "data": {
      "text/plain": [
       "'a'"
      ]
     },
     "execution_count": 26,
     "metadata": {},
     "output_type": "execute_result"
    }
   ],
   "source": [
    "'a'[0:1]"
   ]
  },
  {
   "cell_type": "code",
   "execution_count": null,
   "metadata": {},
   "outputs": [
    {
     "data": {
      "text/plain": [
       "dict_values([2, 3, 2])"
      ]
     },
     "execution_count": 11,
     "metadata": {},
     "output_type": "execute_result"
    }
   ],
   "source": [
    "a = {'a':2, 'b':3, 'g':2}\n",
    "a.values()"
   ]
  },
  {
   "cell_type": "code",
   "execution_count": null,
   "metadata": {},
   "outputs": [
    {
     "data": {
      "text/plain": [
       "3"
      ]
     },
     "execution_count": 17,
     "metadata": {},
     "output_type": "execute_result"
    }
   ],
   "source": [
    "b = {2:'a', 3:'b'}\n",
    "max(b.keys())"
   ]
  },
  {
   "cell_type": "code",
   "execution_count": null,
   "metadata": {},
   "outputs": [],
   "source": [
    "x = [36, 199, 199, 628, 413, 847, 362, 785, 170, 162, 36]\n",
    "s = set(x)\n",
    "s_add = s.add"
   ]
  },
  {
   "cell_type": "code",
   "execution_count": null,
   "metadata": {},
   "outputs": [
    {
     "data": {
      "text/plain": [
       "True"
      ]
     },
     "execution_count": 40,
     "metadata": {},
     "output_type": "execute_result"
    }
   ],
   "source": [
    "d = 35\n",
    "not (d in s or s_add(d))"
   ]
  },
  {
   "cell_type": "code",
   "execution_count": null,
   "metadata": {},
   "outputs": [
    {
     "data": {
      "text/plain": [
       "True"
      ]
     },
     "execution_count": 24,
     "metadata": {},
     "output_type": "execute_result"
    }
   ],
   "source": [
    "628 in s"
   ]
  },
  {
   "cell_type": "markdown",
   "metadata": {},
   "source": [
    "### Primer ejercicio\n"
   ]
  },
  {
   "cell_type": "code",
   "execution_count": null,
   "metadata": {},
   "outputs": [],
   "source": [
    "def Remove(duplicate):\n",
    "    seen = set()\n",
    "    return [x for x in duplicate if not (x in seen or seen.add(x))]"
   ]
  },
  {
   "cell_type": "code",
   "execution_count": null,
   "metadata": {},
   "outputs": [],
   "source": [
    "def Remove(duplicate):\n",
    "    final_list = []\n",
    "    for num in duplicate:\n",
    "        if num not in final_list:\n",
    "            final_list.append(num)\n",
    "    return final_list"
   ]
  },
  {
   "cell_type": "code",
   "execution_count": 32,
   "metadata": {},
   "outputs": [
    {
     "data": {
      "text/plain": [
       "['1', '2', '3']"
      ]
     },
     "execution_count": 32,
     "metadata": {},
     "output_type": "execute_result"
    }
   ],
   "source": [
    "list('123')"
   ]
  },
  {
   "cell_type": "markdown",
   "metadata": {},
   "source": [
    "## Segundo Problema"
   ]
  },
  {
   "cell_type": "code",
   "execution_count": null,
   "metadata": {},
   "outputs": [
    {
     "data": {
      "text/plain": [
       "[[2, 5], [6, 8]]"
      ]
     },
     "execution_count": 1,
     "metadata": {},
     "output_type": "execute_result"
    }
   ],
   "source": [
    "'''\n",
    "    inputs:\n",
    "        4\n",
    "        7 35\n",
    "        0 5\n",
    "        2 8\n",
    "        5 12\n",
    "'''\n",
    "\n",
    "n = int(input('n'))\n",
    "concerts = []\n",
    "for i in range(n):\n",
    "    concerts.append(list(map(lambda x: int(x), input().split())))\n",
    "concerts = sorted(concerts, key= lambda x: x[0])\n",
    "\n"
   ]
  },
  {
   "cell_type": "code",
   "execution_count": null,
   "metadata": {},
   "outputs": [],
   "source": [
    "n = 4\n",
    "inputs = ['7 35', '0 5', '2 8', '5 12']\n",
    "concerts = []\n",
    "for i in range(n):\n",
    "    concerts.append(list(map(lambda x: int(x), inputs[i].split())))\n",
    "concerts = sorted(concerts, key= lambda x: x[0])\n",
    "arr = [[concerts[0]]]\n",
    "for concert in concerts[1:]:\n",
    "    ocupado = False\n",
    "    for sala in arr:\n",
    "        for con in sala:\n",
    "            range_con = range(con[0], con[1])\n",
    "            if concert[0] in range_con or concert[1] in range_con:\n",
    "                ocupado = True\n",
    "        if not ocupado:\n",
    "            sala.append(concert)\n",
    "        else:\n",
    "            arr.append([concert])\n",
    "            \n",
    "print(len(arr))"
   ]
  },
  {
   "cell_type": "code",
   "execution_count": null,
   "metadata": {},
   "outputs": [],
   "source": [
    "n = 4\n",
    "inputs = ['7 35', '0 5', '2 8', '5 12']\n",
    "concerts = []\n",
    "for i in range(n):\n",
    "    concerts.append(list(map(lambda x: int(x), inputs[i].split())))\n",
    "concerts = sorted(concerts, key= lambda x: x[0])\n",
    "arr = [[concerts[0]]]\n",
    "for concert in concerts[1:]:\n",
    "    ocupado = False\n",
    "    for sala in arr:\n",
    "        for con in sala:\n",
    "            range_con = range(con[0], con[1])\n",
    "            if concert[0] in range_con or concert[1] in range_con:\n",
    "                ocupado = True\n",
    "        if not ocupado:\n",
    "            sala.append(concert)\n",
    "        else:\n",
    "            arr.append([concert])\n",
    "            \n",
    "print(len(arr))"
   ]
  },
  {
   "cell_type": "code",
   "execution_count": null,
   "metadata": {},
   "outputs": [],
   "source": [
    "a = [2]\n",
    "for i in a:\n",
    "    a.append(3)\n",
    "    print(i)"
   ]
  },
  {
   "cell_type": "code",
   "execution_count": null,
   "metadata": {},
   "outputs": [
    {
     "name": "stdout",
     "output_type": "stream",
     "text": [
      "6\n"
     ]
    }
   ],
   "source": [
    "n = 4\n",
    "inputs = ['7 35', '0 5', '2 8', '5 12']\n",
    "concerts = []\n",
    "for i in range(n):\n",
    "    concerts.append(list(map(lambda x: int(x), inputs[i].split())))\n",
    "concerts = sorted(concerts, key= lambda x: x[0])\n",
    "arr = [[concerts[0]]]\n",
    "for concert in concerts[1:]:\n",
    "    ocupado = False\n",
    "    for sala_idx in range(len(arr)):\n",
    "        sala = arr[sala_idx]\n",
    "        for con in sala:\n",
    "            range_con = range(con[0], con[1])\n",
    "            if concert[0] in range_con or concert[1] in range_con:\n",
    "                ocupado = True\n",
    "        if not ocupado:\n",
    "            sala.append(concert)\n",
    "        else:\n",
    "            arr.append([concert])\n",
    "            \n",
    "print(len(arr))"
   ]
  },
  {
   "cell_type": "code",
   "execution_count": null,
   "metadata": {},
   "outputs": [
    {
     "name": "stdout",
     "output_type": "stream",
     "text": [
      "[0, 5]\n",
      "range(0, 5)\n",
      "False\n"
     ]
    }
   ],
   "source": [
    "arr = [[concerts[0]]]\n",
    "for i in arr:\n",
    "    for con in i:\n",
    "        range_con = range(con[0], con[1])\n",
    "        print(con)\n",
    "        print(range_con)\n",
    "        print(5 in range_con)"
   ]
  },
  {
   "cell_type": "code",
   "execution_count": 14,
   "metadata": {},
   "outputs": [
    {
     "name": "stdout",
     "output_type": "stream",
     "text": [
      "1\n"
     ]
    }
   ],
   "source": [
    "n = 4\n",
    "inputs = ['7 35', '0 5', '2 8', '5 12']\n",
    "concerts = []\n",
    "for i in range(n):\n",
    "    concerts.append(list(map(lambda x: int(x), inputs[i].split())))\n",
    "concerts = sorted(concerts, key= lambda x: x[0])\n",
    "arr = [[concerts[0]]]\n",
    "for concert in concerts[1:]:\n",
    "    meter = False\n",
    "    for sala_idx in range(len(arr)):\n",
    "        sala = arr[sala_idx]\n",
    "        for con in sala:\n",
    "            range_con = range(con[0], con[1])\n",
    "            if concert[0] not in range_con or concert[1] not in range_con:\n",
    "                meter = True\n",
    "                break\n",
    "        if meter:\n",
    "            sala.append(concert)\n",
    "        \n",
    "    if not meter:\n",
    "        arr.append([concert])\n",
    "            \n",
    "print(len(arr))"
   ]
  },
  {
   "cell_type": "code",
   "execution_count": 20,
   "metadata": {},
   "outputs": [
    {
     "name": "stdout",
     "output_type": "stream",
     "text": [
      "3\n"
     ]
    }
   ],
   "source": [
    "n = 3\n",
    "inputs = ['0 30', '5 10', '15 20']\n",
    "concerts = []\n",
    "for i in range(n):\n",
    "    concerts.append(list(map(lambda x: int(x), inputs[i].split())))\n",
    "concerts = sorted(concerts, key= lambda x: x[0])\n",
    "arr = [[concerts[0]]]\n",
    "for concert in concerts[1:]:\n",
    "    meter = True\n",
    "    for sala_idx in range(len(arr)):\n",
    "        sala = arr[sala_idx]\n",
    "        for con in sala:\n",
    "            range_con = range(con[0], con[1])\n",
    "            if concert[0] in range_con or concert[1] in range_con:\n",
    "                meter = False\n",
    "                break\n",
    "        if meter:\n",
    "            sala.append(concert)\n",
    "            break\n",
    "        \n",
    "    if not meter:\n",
    "        arr.append([concert])\n",
    "            \n",
    "print(len(arr))"
   ]
  },
  {
   "cell_type": "code",
   "execution_count": 23,
   "metadata": {},
   "outputs": [
    {
     "name": "stdout",
     "output_type": "stream",
     "text": [
      "1\n"
     ]
    }
   ],
   "source": [
    "n = 2\n",
    "inputs = ['57 60', '22 28', '15 20']\n",
    "concerts = []\n",
    "for i in range(n):\n",
    "    concerts.append(list(map(lambda x: int(x), inputs[i].split())))\n",
    "concerts = sorted(concerts, key= lambda x: x[0])\n",
    "arr = [[concerts[0]]]\n",
    "for concert in concerts[1:]:\n",
    "    for sala_idx in range(len(arr)):\n",
    "        meter = True\n",
    "        sala = arr[sala_idx]\n",
    "        for con in sala:\n",
    "            range_con = range(con[0], con[1])\n",
    "            if concert[0] in range_con or concert[1] in range_con:\n",
    "                meter = False\n",
    "                break\n",
    "        if meter:\n",
    "            sala.append(concert)\n",
    "            break\n",
    "        \n",
    "    if not meter:\n",
    "        arr.append([concert])\n",
    "            \n",
    "print(len(arr))"
   ]
  },
  {
   "cell_type": "markdown",
   "metadata": {},
   "source": [
    "## Problema 3"
   ]
  },
  {
   "cell_type": "code",
   "execution_count": 19,
   "metadata": {},
   "outputs": [
    {
     "name": "stdout",
     "output_type": "stream",
     "text": [
      "63\n"
     ]
    }
   ],
   "source": [
    "in_ = [12, 4,16,51, 3]\n",
    "temp = [0] * (len(in_) + 3)\n",
    "for i in range(len(in_)):\n",
    "    temp[i + 3] = in_[i] + max(temp[i+1], temp[i])\n",
    "print(max(temp))\n",
    "        "
   ]
  },
  {
   "cell_type": "code",
   "execution_count": 7,
   "metadata": {},
   "outputs": [
    {
     "data": {
      "text/plain": [
       "[36, 199, 757, 628, 413, 847, 362, 785, 170, 162]"
      ]
     },
     "execution_count": 7,
     "metadata": {},
     "output_type": "execute_result"
    }
   ],
   "source": [
    "import numpy as np\n",
    "a = list(np.random.randint(1000, size=30000))\n",
    "a[:10]"
   ]
  },
  {
   "cell_type": "code",
   "execution_count": 12,
   "metadata": {},
   "outputs": [
    {
     "data": {
      "text/plain": [
       "array([703, 445,  33, ..., 442,  61, 836])"
      ]
     },
     "execution_count": 12,
     "metadata": {},
     "output_type": "execute_result"
    }
   ],
   "source": [
    "np.random.randint(1000, size=3000)"
   ]
  },
  {
   "cell_type": "code",
   "execution_count": null,
   "metadata": {},
   "outputs": [],
   "source": []
  }
 ],
 "metadata": {
  "interpreter": {
   "hash": "0196cdf83640a6e46297d473cb3ef53da006e045272bee5d8db156007640eae3"
  },
  "kernelspec": {
   "display_name": "Python 3.8.8 ('base')",
   "language": "python",
   "name": "python3"
  },
  "language_info": {
   "codemirror_mode": {
    "name": "ipython",
    "version": 3
   },
   "file_extension": ".py",
   "mimetype": "text/x-python",
   "name": "python",
   "nbconvert_exporter": "python",
   "pygments_lexer": "ipython3",
   "version": "3.8.8"
  },
  "orig_nbformat": 4
 },
 "nbformat": 4,
 "nbformat_minor": 2
}
